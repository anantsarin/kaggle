{
 "cells": [
  {
   "cell_type": "code",
   "execution_count": 1,
   "id": "628f50c6",
   "metadata": {
    "_cell_guid": "b1076dfc-b9ad-4769-8c92-a6c4dae69d19",
    "_uuid": "8f2839f25d086af736a60e9eeb907d3b93b6e0e5",
    "execution": {
     "iopub.execute_input": "2022-07-20T00:14:06.206574Z",
     "iopub.status.busy": "2022-07-20T00:14:06.205823Z",
     "iopub.status.idle": "2022-07-20T00:14:06.225869Z",
     "shell.execute_reply": "2022-07-20T00:14:06.224608Z"
    },
    "papermill": {
     "duration": 0.034224,
     "end_time": "2022-07-20T00:14:06.229541",
     "exception": false,
     "start_time": "2022-07-20T00:14:06.195317",
     "status": "completed"
    },
    "tags": []
   },
   "outputs": [
    {
     "name": "stdout",
     "output_type": "stream",
     "text": [
      "/kaggle/input/word2vec-nlp-tutorial/testData.tsv.zip\n",
      "/kaggle/input/word2vec-nlp-tutorial/sampleSubmission.csv\n",
      "/kaggle/input/word2vec-nlp-tutorial/unlabeledTrainData.tsv.zip\n",
      "/kaggle/input/word2vec-nlp-tutorial/labeledTrainData.tsv.zip\n"
     ]
    }
   ],
   "source": [
    "# This Python 3 environment comes with many helpful analytics libraries installed\n",
    "# It is defined by the kaggle/python Docker image: https://github.com/kaggle/docker-python\n",
    "# For example, here's several helpful packages to load\n",
    "\n",
    "import numpy as np # linear algebra\n",
    "import pandas as pd # data processing, CSV file I/O (e.g. pd.read_csv)\n",
    "\n",
    "# Input data files are available in the read-only \"../input/\" directory\n",
    "# For example, running this (by clicking run or pressing Shift+Enter) will list all files under the input directory\n",
    "\n",
    "import os\n",
    "for dirname, _, filenames in os.walk('/kaggle/input'):\n",
    "    for filename in filenames:\n",
    "        print(os.path.join(dirname, filename))\n",
    "\n",
    "# You can write up to 20GB to the current directory (/kaggle/working/) that gets preserved as output when you create a version using \"Save & Run All\" \n",
    "# You can also write temporary files to /kaggle/temp/, but they won't be saved outside of the current session"
   ]
  },
  {
   "cell_type": "code",
   "execution_count": 2,
   "id": "a3227eaf",
   "metadata": {
    "execution": {
     "iopub.execute_input": "2022-07-20T00:14:06.247894Z",
     "iopub.status.busy": "2022-07-20T00:14:06.247513Z",
     "iopub.status.idle": "2022-07-20T00:14:07.161278Z",
     "shell.execute_reply": "2022-07-20T00:14:07.160241Z"
    },
    "papermill": {
     "duration": 0.926835,
     "end_time": "2022-07-20T00:14:07.164172",
     "exception": false,
     "start_time": "2022-07-20T00:14:06.237337",
     "status": "completed"
    },
    "tags": []
   },
   "outputs": [],
   "source": [
    "train = pd.read_csv(\"/kaggle/input/word2vec-nlp-tutorial/labeledTrainData.tsv.zip\", header=0, delimiter=\"\\t\", quoting=3)"
   ]
  },
  {
   "cell_type": "code",
   "execution_count": 3,
   "id": "2ed4bdbb",
   "metadata": {
    "execution": {
     "iopub.execute_input": "2022-07-20T00:14:07.180274Z",
     "iopub.status.busy": "2022-07-20T00:14:07.179555Z",
     "iopub.status.idle": "2022-07-20T00:14:07.189752Z",
     "shell.execute_reply": "2022-07-20T00:14:07.188418Z"
    },
    "papermill": {
     "duration": 0.021156,
     "end_time": "2022-07-20T00:14:07.192498",
     "exception": false,
     "start_time": "2022-07-20T00:14:07.171342",
     "status": "completed"
    },
    "tags": []
   },
   "outputs": [
    {
     "data": {
      "text/plain": [
       "(25000, 3)"
      ]
     },
     "execution_count": 3,
     "metadata": {},
     "output_type": "execute_result"
    }
   ],
   "source": [
    "train.shape"
   ]
  },
  {
   "cell_type": "code",
   "execution_count": 4,
   "id": "844a6fef",
   "metadata": {
    "execution": {
     "iopub.execute_input": "2022-07-20T00:14:07.209892Z",
     "iopub.status.busy": "2022-07-20T00:14:07.208925Z",
     "iopub.status.idle": "2022-07-20T00:14:07.217403Z",
     "shell.execute_reply": "2022-07-20T00:14:07.216151Z"
    },
    "papermill": {
     "duration": 0.019875,
     "end_time": "2022-07-20T00:14:07.219810",
     "exception": false,
     "start_time": "2022-07-20T00:14:07.199935",
     "status": "completed"
    },
    "tags": []
   },
   "outputs": [
    {
     "data": {
      "text/plain": [
       "array(['id', 'sentiment', 'review'], dtype=object)"
      ]
     },
     "execution_count": 4,
     "metadata": {},
     "output_type": "execute_result"
    }
   ],
   "source": [
    "train.columns.values"
   ]
  },
  {
   "cell_type": "code",
   "execution_count": 5,
   "id": "b189729f",
   "metadata": {
    "execution": {
     "iopub.execute_input": "2022-07-20T00:14:07.237239Z",
     "iopub.status.busy": "2022-07-20T00:14:07.236329Z",
     "iopub.status.idle": "2022-07-20T00:14:07.255843Z",
     "shell.execute_reply": "2022-07-20T00:14:07.254582Z"
    },
    "papermill": {
     "duration": 0.031072,
     "end_time": "2022-07-20T00:14:07.258308",
     "exception": false,
     "start_time": "2022-07-20T00:14:07.227236",
     "status": "completed"
    },
    "tags": []
   },
   "outputs": [
    {
     "data": {
      "text/html": [
       "<div>\n",
       "<style scoped>\n",
       "    .dataframe tbody tr th:only-of-type {\n",
       "        vertical-align: middle;\n",
       "    }\n",
       "\n",
       "    .dataframe tbody tr th {\n",
       "        vertical-align: top;\n",
       "    }\n",
       "\n",
       "    .dataframe thead th {\n",
       "        text-align: right;\n",
       "    }\n",
       "</style>\n",
       "<table border=\"1\" class=\"dataframe\">\n",
       "  <thead>\n",
       "    <tr style=\"text-align: right;\">\n",
       "      <th></th>\n",
       "      <th>id</th>\n",
       "      <th>sentiment</th>\n",
       "      <th>review</th>\n",
       "    </tr>\n",
       "  </thead>\n",
       "  <tbody>\n",
       "    <tr>\n",
       "      <th>0</th>\n",
       "      <td>\"5814_8\"</td>\n",
       "      <td>1</td>\n",
       "      <td>\"With all this stuff going down at the moment ...</td>\n",
       "    </tr>\n",
       "    <tr>\n",
       "      <th>1</th>\n",
       "      <td>\"2381_9\"</td>\n",
       "      <td>1</td>\n",
       "      <td>\"\\\"The Classic War of the Worlds\\\" by Timothy ...</td>\n",
       "    </tr>\n",
       "    <tr>\n",
       "      <th>2</th>\n",
       "      <td>\"7759_3\"</td>\n",
       "      <td>0</td>\n",
       "      <td>\"The film starts with a manager (Nicholas Bell...</td>\n",
       "    </tr>\n",
       "    <tr>\n",
       "      <th>3</th>\n",
       "      <td>\"3630_4\"</td>\n",
       "      <td>0</td>\n",
       "      <td>\"It must be assumed that those who praised thi...</td>\n",
       "    </tr>\n",
       "    <tr>\n",
       "      <th>4</th>\n",
       "      <td>\"9495_8\"</td>\n",
       "      <td>1</td>\n",
       "      <td>\"Superbly trashy and wondrously unpretentious ...</td>\n",
       "    </tr>\n",
       "  </tbody>\n",
       "</table>\n",
       "</div>"
      ],
      "text/plain": [
       "         id  sentiment                                             review\n",
       "0  \"5814_8\"          1  \"With all this stuff going down at the moment ...\n",
       "1  \"2381_9\"          1  \"\\\"The Classic War of the Worlds\\\" by Timothy ...\n",
       "2  \"7759_3\"          0  \"The film starts with a manager (Nicholas Bell...\n",
       "3  \"3630_4\"          0  \"It must be assumed that those who praised thi...\n",
       "4  \"9495_8\"          1  \"Superbly trashy and wondrously unpretentious ..."
      ]
     },
     "execution_count": 5,
     "metadata": {},
     "output_type": "execute_result"
    }
   ],
   "source": [
    "train.head()\n"
   ]
  },
  {
   "cell_type": "code",
   "execution_count": 6,
   "id": "555e4344",
   "metadata": {
    "execution": {
     "iopub.execute_input": "2022-07-20T00:14:07.281255Z",
     "iopub.status.busy": "2022-07-20T00:14:07.280748Z",
     "iopub.status.idle": "2022-07-20T00:14:07.290174Z",
     "shell.execute_reply": "2022-07-20T00:14:07.289250Z"
    },
    "papermill": {
     "duration": 0.028258,
     "end_time": "2022-07-20T00:14:07.294189",
     "exception": false,
     "start_time": "2022-07-20T00:14:07.265931",
     "status": "completed"
    },
    "tags": []
   },
   "outputs": [
    {
     "name": "stdout",
     "output_type": "stream",
     "text": [
      "\"With all this stuff going down at the moment with MJ i've started listening to his music, watching the odd documentary here and there, watched The Wiz and watched Moonwalker again. Maybe i just want to get a certain insight into this guy who i thought was really cool in the eighties just to maybe make up my mind whether he is guilty or innocent. Moonwalker is part biography, part feature film which i remember going to see at the cinema when it was originally released. Some of it has subtle messages about MJ's feeling towards the press and also the obvious message of drugs are bad m'kay.<br /><br />Visually impressive but of course this is all about Michael Jackson so unless you remotely like MJ in anyway then you are going to hate this and find it boring. Some may call MJ an egotist for consenting to the making of this movie BUT MJ and most of his fans would say that he made it for the fans which if true is really nice of him.<br /><br />The actual feature film bit when it finally starts is only on for 20 minutes or so excluding the Smooth Criminal sequence and Joe Pesci is convincing as a psychopathic all powerful drug lord. Why he wants MJ dead so bad is beyond me. Because MJ overheard his plans? Nah, Joe Pesci's character ranted that he wanted people to know it is he who is supplying drugs etc so i dunno, maybe he just hates MJ's music.<br /><br />Lots of cool things in this like MJ turning into a car and a robot and the whole Speed Demon sequence. Also, the director must have had the patience of a saint when it came to filming the kiddy Bad sequence as usually directors hate working with one kid let alone a whole bunch of them performing a complex dance scene.<br /><br />Bottom line, this movie is for people who like MJ on one level or another (which i think is most people). If not, then stay away. It does try and give off a wholesome message and ironically MJ's bestest buddy in this movie is a girl! Michael Jackson is truly one of the most talented people ever to grace this planet but is he guilty? Well, with all the attention i've gave this subject....hmmm well i don't know because people can be different behind closed doors, i know this for a fact. He is either an extremely nice but stupid guy or one of the most sickest liars. I hope he is not the latter.\"\n"
     ]
    }
   ],
   "source": [
    "print (train[\"review\"][0])"
   ]
  },
  {
   "cell_type": "code",
   "execution_count": 7,
   "id": "208f5ea2",
   "metadata": {
    "execution": {
     "iopub.execute_input": "2022-07-20T00:14:07.322217Z",
     "iopub.status.busy": "2022-07-20T00:14:07.321210Z",
     "iopub.status.idle": "2022-07-20T00:14:07.561492Z",
     "shell.execute_reply": "2022-07-20T00:14:07.560502Z"
    },
    "papermill": {
     "duration": 0.257833,
     "end_time": "2022-07-20T00:14:07.564823",
     "exception": false,
     "start_time": "2022-07-20T00:14:07.306990",
     "status": "completed"
    },
    "tags": []
   },
   "outputs": [],
   "source": [
    "# Import BeautifulSoup into your workspace\n",
    "from bs4 import BeautifulSoup             \n",
    "\n",
    "# Initialize the BeautifulSoup object on a single movie review     \n",
    "example1 = BeautifulSoup(train[\"review\"][0])  "
   ]
  },
  {
   "cell_type": "code",
   "execution_count": 8,
   "id": "e114424e",
   "metadata": {
    "execution": {
     "iopub.execute_input": "2022-07-20T00:14:07.590046Z",
     "iopub.status.busy": "2022-07-20T00:14:07.589046Z",
     "iopub.status.idle": "2022-07-20T00:14:07.598842Z",
     "shell.execute_reply": "2022-07-20T00:14:07.597966Z"
    },
    "papermill": {
     "duration": 0.024683,
     "end_time": "2022-07-20T00:14:07.602541",
     "exception": false,
     "start_time": "2022-07-20T00:14:07.577858",
     "status": "completed"
    },
    "tags": []
   },
   "outputs": [
    {
     "name": "stdout",
     "output_type": "stream",
     "text": [
      "\"With all this stuff going down at the moment with MJ i've started listening to his music, watching the odd documentary here and there, watched The Wiz and watched Moonwalker again. Maybe i just want to get a certain insight into this guy who i thought was really cool in the eighties just to maybe make up my mind whether he is guilty or innocent. Moonwalker is part biography, part feature film which i remember going to see at the cinema when it was originally released. Some of it has subtle messages about MJ's feeling towards the press and also the obvious message of drugs are bad m'kay.<br /><br />Visually impressive but of course this is all about Michael Jackson so unless you remotely like MJ in anyway then you are going to hate this and find it boring. Some may call MJ an egotist for consenting to the making of this movie BUT MJ and most of his fans would say that he made it for the fans which if true is really nice of him.<br /><br />The actual feature film bit when it finally starts is only on for 20 minutes or so excluding the Smooth Criminal sequence and Joe Pesci is convincing as a psychopathic all powerful drug lord. Why he wants MJ dead so bad is beyond me. Because MJ overheard his plans? Nah, Joe Pesci's character ranted that he wanted people to know it is he who is supplying drugs etc so i dunno, maybe he just hates MJ's music.<br /><br />Lots of cool things in this like MJ turning into a car and a robot and the whole Speed Demon sequence. Also, the director must have had the patience of a saint when it came to filming the kiddy Bad sequence as usually directors hate working with one kid let alone a whole bunch of them performing a complex dance scene.<br /><br />Bottom line, this movie is for people who like MJ on one level or another (which i think is most people). If not, then stay away. It does try and give off a wholesome message and ironically MJ's bestest buddy in this movie is a girl! Michael Jackson is truly one of the most talented people ever to grace this planet but is he guilty? Well, with all the attention i've gave this subject....hmmm well i don't know because people can be different behind closed doors, i know this for a fact. He is either an extremely nice but stupid guy or one of the most sickest liars. I hope he is not the latter.\"\n"
     ]
    }
   ],
   "source": [
    "# Print the raw review and then the output of get_text(), for \n",
    "# comparison\n",
    "print (train[\"review\"][0])\n"
   ]
  },
  {
   "cell_type": "code",
   "execution_count": 9,
   "id": "245525c5",
   "metadata": {
    "execution": {
     "iopub.execute_input": "2022-07-20T00:14:07.626324Z",
     "iopub.status.busy": "2022-07-20T00:14:07.625290Z",
     "iopub.status.idle": "2022-07-20T00:14:07.633373Z",
     "shell.execute_reply": "2022-07-20T00:14:07.631510Z"
    },
    "papermill": {
     "duration": 0.021936,
     "end_time": "2022-07-20T00:14:07.636770",
     "exception": false,
     "start_time": "2022-07-20T00:14:07.614834",
     "status": "completed"
    },
    "tags": []
   },
   "outputs": [
    {
     "name": "stdout",
     "output_type": "stream",
     "text": [
      "\"With all this stuff going down at the moment with MJ i've started listening to his music, watching the odd documentary here and there, watched The Wiz and watched Moonwalker again. Maybe i just want to get a certain insight into this guy who i thought was really cool in the eighties just to maybe make up my mind whether he is guilty or innocent. Moonwalker is part biography, part feature film which i remember going to see at the cinema when it was originally released. Some of it has subtle messages about MJ's feeling towards the press and also the obvious message of drugs are bad m'kay.Visually impressive but of course this is all about Michael Jackson so unless you remotely like MJ in anyway then you are going to hate this and find it boring. Some may call MJ an egotist for consenting to the making of this movie BUT MJ and most of his fans would say that he made it for the fans which if true is really nice of him.The actual feature film bit when it finally starts is only on for 20 minutes or so excluding the Smooth Criminal sequence and Joe Pesci is convincing as a psychopathic all powerful drug lord. Why he wants MJ dead so bad is beyond me. Because MJ overheard his plans? Nah, Joe Pesci's character ranted that he wanted people to know it is he who is supplying drugs etc so i dunno, maybe he just hates MJ's music.Lots of cool things in this like MJ turning into a car and a robot and the whole Speed Demon sequence. Also, the director must have had the patience of a saint when it came to filming the kiddy Bad sequence as usually directors hate working with one kid let alone a whole bunch of them performing a complex dance scene.Bottom line, this movie is for people who like MJ on one level or another (which i think is most people). If not, then stay away. It does try and give off a wholesome message and ironically MJ's bestest buddy in this movie is a girl! Michael Jackson is truly one of the most talented people ever to grace this planet but is he guilty? Well, with all the attention i've gave this subject....hmmm well i don't know because people can be different behind closed doors, i know this for a fact. He is either an extremely nice but stupid guy or one of the most sickest liars. I hope he is not the latter.\"\n"
     ]
    }
   ],
   "source": [
    "print (example1.get_text())"
   ]
  },
  {
   "cell_type": "code",
   "execution_count": 10,
   "id": "7b8dba23",
   "metadata": {
    "execution": {
     "iopub.execute_input": "2022-07-20T00:14:07.655550Z",
     "iopub.status.busy": "2022-07-20T00:14:07.655134Z",
     "iopub.status.idle": "2022-07-20T00:14:07.662951Z",
     "shell.execute_reply": "2022-07-20T00:14:07.661314Z"
    },
    "papermill": {
     "duration": 0.020495,
     "end_time": "2022-07-20T00:14:07.665719",
     "exception": false,
     "start_time": "2022-07-20T00:14:07.645224",
     "status": "completed"
    },
    "tags": []
   },
   "outputs": [
    {
     "name": "stdout",
     "output_type": "stream",
     "text": [
      " With all this stuff going down at the moment with MJ i ve started listening to his music  watching the odd documentary here and there  watched The Wiz and watched Moonwalker again  Maybe i just want to get a certain insight into this guy who i thought was really cool in the eighties just to maybe make up my mind whether he is guilty or innocent  Moonwalker is part biography  part feature film which i remember going to see at the cinema when it was originally released  Some of it has subtle messages about MJ s feeling towards the press and also the obvious message of drugs are bad m kay Visually impressive but of course this is all about Michael Jackson so unless you remotely like MJ in anyway then you are going to hate this and find it boring  Some may call MJ an egotist for consenting to the making of this movie BUT MJ and most of his fans would say that he made it for the fans which if true is really nice of him The actual feature film bit when it finally starts is only on for    minutes or so excluding the Smooth Criminal sequence and Joe Pesci is convincing as a psychopathic all powerful drug lord  Why he wants MJ dead so bad is beyond me  Because MJ overheard his plans  Nah  Joe Pesci s character ranted that he wanted people to know it is he who is supplying drugs etc so i dunno  maybe he just hates MJ s music Lots of cool things in this like MJ turning into a car and a robot and the whole Speed Demon sequence  Also  the director must have had the patience of a saint when it came to filming the kiddy Bad sequence as usually directors hate working with one kid let alone a whole bunch of them performing a complex dance scene Bottom line  this movie is for people who like MJ on one level or another  which i think is most people   If not  then stay away  It does try and give off a wholesome message and ironically MJ s bestest buddy in this movie is a girl  Michael Jackson is truly one of the most talented people ever to grace this planet but is he guilty  Well  with all the attention i ve gave this subject    hmmm well i don t know because people can be different behind closed doors  i know this for a fact  He is either an extremely nice but stupid guy or one of the most sickest liars  I hope he is not the latter  \n"
     ]
    }
   ],
   "source": [
    "import re\n",
    "# Use regular expressions to do a find-and-replace\n",
    "letters_only = re.sub(\"[^a-zA-Z]\",\" \",example1.get_text() ) \n",
    "print (letters_only)"
   ]
  },
  {
   "cell_type": "code",
   "execution_count": 11,
   "id": "99f9b96b",
   "metadata": {
    "execution": {
     "iopub.execute_input": "2022-07-20T00:14:07.685440Z",
     "iopub.status.busy": "2022-07-20T00:14:07.684445Z",
     "iopub.status.idle": "2022-07-20T00:14:07.690722Z",
     "shell.execute_reply": "2022-07-20T00:14:07.689497Z"
    },
    "papermill": {
     "duration": 0.019173,
     "end_time": "2022-07-20T00:14:07.693411",
     "exception": false,
     "start_time": "2022-07-20T00:14:07.674238",
     "status": "completed"
    },
    "tags": []
   },
   "outputs": [],
   "source": [
    "lower_case = letters_only.lower()        # Convert to lower case\n",
    "words = lower_case.split()               # Split into words"
   ]
  },
  {
   "cell_type": "markdown",
   "id": "cb4a4204",
   "metadata": {
    "papermill": {
     "duration": 0.007837,
     "end_time": "2022-07-20T00:14:07.709654",
     "exception": false,
     "start_time": "2022-07-20T00:14:07.701817",
     "status": "completed"
    },
    "tags": []
   },
   "source": [
    " Let's import a stop word list from the Python Natural Language Toolkit (NLTK) http://www.nltk.org/"
   ]
  },
  {
   "cell_type": "code",
   "execution_count": 12,
   "id": "1d4b4ac3",
   "metadata": {
    "execution": {
     "iopub.execute_input": "2022-07-20T00:14:07.728896Z",
     "iopub.status.busy": "2022-07-20T00:14:07.727952Z",
     "iopub.status.idle": "2022-07-20T00:14:07.733315Z",
     "shell.execute_reply": "2022-07-20T00:14:07.732138Z"
    },
    "papermill": {
     "duration": 0.017861,
     "end_time": "2022-07-20T00:14:07.735706",
     "exception": false,
     "start_time": "2022-07-20T00:14:07.717845",
     "status": "completed"
    },
    "tags": []
   },
   "outputs": [],
   "source": [
    "# import nltk\n",
    "# nltk.download()  # Download text data sets, including stop words"
   ]
  },
  {
   "cell_type": "code",
   "execution_count": 13,
   "id": "d698bf78",
   "metadata": {
    "execution": {
     "iopub.execute_input": "2022-07-20T00:14:07.754475Z",
     "iopub.status.busy": "2022-07-20T00:14:07.753498Z",
     "iopub.status.idle": "2022-07-20T00:14:09.443135Z",
     "shell.execute_reply": "2022-07-20T00:14:09.441761Z"
    },
    "papermill": {
     "duration": 1.702944,
     "end_time": "2022-07-20T00:14:09.446681",
     "exception": false,
     "start_time": "2022-07-20T00:14:07.743737",
     "status": "completed"
    },
    "tags": []
   },
   "outputs": [
    {
     "name": "stdout",
     "output_type": "stream",
     "text": [
      "['i', 'me', 'my', 'myself', 'we', 'our', 'ours', 'ourselves', 'you', \"you're\", \"you've\", \"you'll\", \"you'd\", 'your', 'yours', 'yourself', 'yourselves', 'he', 'him', 'his', 'himself', 'she', \"she's\", 'her', 'hers', 'herself', 'it', \"it's\", 'its', 'itself', 'they', 'them', 'their', 'theirs', 'themselves', 'what', 'which', 'who', 'whom', 'this', 'that', \"that'll\", 'these', 'those', 'am', 'is', 'are', 'was', 'were', 'be', 'been', 'being', 'have', 'has', 'had', 'having', 'do', 'does', 'did', 'doing', 'a', 'an', 'the', 'and', 'but', 'if', 'or', 'because', 'as', 'until', 'while', 'of', 'at', 'by', 'for', 'with', 'about', 'against', 'between', 'into', 'through', 'during', 'before', 'after', 'above', 'below', 'to', 'from', 'up', 'down', 'in', 'out', 'on', 'off', 'over', 'under', 'again', 'further', 'then', 'once', 'here', 'there', 'when', 'where', 'why', 'how', 'all', 'any', 'both', 'each', 'few', 'more', 'most', 'other', 'some', 'such', 'no', 'nor', 'not', 'only', 'own', 'same', 'so', 'than', 'too', 'very', 's', 't', 'can', 'will', 'just', 'don', \"don't\", 'should', \"should've\", 'now', 'd', 'll', 'm', 'o', 're', 've', 'y', 'ain', 'aren', \"aren't\", 'couldn', \"couldn't\", 'didn', \"didn't\", 'doesn', \"doesn't\", 'hadn', \"hadn't\", 'hasn', \"hasn't\", 'haven', \"haven't\", 'isn', \"isn't\", 'ma', 'mightn', \"mightn't\", 'mustn', \"mustn't\", 'needn', \"needn't\", 'shan', \"shan't\", 'shouldn', \"shouldn't\", 'wasn', \"wasn't\", 'weren', \"weren't\", 'won', \"won't\", 'wouldn', \"wouldn't\"]\n"
     ]
    }
   ],
   "source": [
    "from nltk.corpus import stopwords # Import the stop word list\n",
    "print( stopwords.words(\"english\") )"
   ]
  },
  {
   "cell_type": "code",
   "execution_count": 14,
   "id": "01236e64",
   "metadata": {
    "execution": {
     "iopub.execute_input": "2022-07-20T00:14:09.465336Z",
     "iopub.status.busy": "2022-07-20T00:14:09.464938Z",
     "iopub.status.idle": "2022-07-20T00:14:09.537241Z",
     "shell.execute_reply": "2022-07-20T00:14:09.535813Z"
    },
    "papermill": {
     "duration": 0.084074,
     "end_time": "2022-07-20T00:14:09.539781",
     "exception": false,
     "start_time": "2022-07-20T00:14:09.455707",
     "status": "completed"
    },
    "tags": []
   },
   "outputs": [
    {
     "name": "stdout",
     "output_type": "stream",
     "text": [
      "['stuff', 'going', 'moment', 'mj', 'started', 'listening', 'music', 'watching', 'odd', 'documentary', 'watched', 'wiz', 'watched', 'moonwalker', 'maybe', 'want', 'get', 'certain', 'insight', 'guy', 'thought', 'really', 'cool', 'eighties', 'maybe', 'make', 'mind', 'whether', 'guilty', 'innocent', 'moonwalker', 'part', 'biography', 'part', 'feature', 'film', 'remember', 'going', 'see', 'cinema', 'originally', 'released', 'subtle', 'messages', 'mj', 'feeling', 'towards', 'press', 'also', 'obvious', 'message', 'drugs', 'bad', 'kay', 'visually', 'impressive', 'course', 'michael', 'jackson', 'unless', 'remotely', 'like', 'mj', 'anyway', 'going', 'hate', 'find', 'boring', 'may', 'call', 'mj', 'egotist', 'consenting', 'making', 'movie', 'mj', 'fans', 'would', 'say', 'made', 'fans', 'true', 'really', 'nice', 'actual', 'feature', 'film', 'bit', 'finally', 'starts', 'minutes', 'excluding', 'smooth', 'criminal', 'sequence', 'joe', 'pesci', 'convincing', 'psychopathic', 'powerful', 'drug', 'lord', 'wants', 'mj', 'dead', 'bad', 'beyond', 'mj', 'overheard', 'plans', 'nah', 'joe', 'pesci', 'character', 'ranted', 'wanted', 'people', 'know', 'supplying', 'drugs', 'etc', 'dunno', 'maybe', 'hates', 'mj', 'music', 'lots', 'cool', 'things', 'like', 'mj', 'turning', 'car', 'robot', 'whole', 'speed', 'demon', 'sequence', 'also', 'director', 'must', 'patience', 'saint', 'came', 'filming', 'kiddy', 'bad', 'sequence', 'usually', 'directors', 'hate', 'working', 'one', 'kid', 'let', 'alone', 'whole', 'bunch', 'performing', 'complex', 'dance', 'scene', 'bottom', 'line', 'movie', 'people', 'like', 'mj', 'one', 'level', 'another', 'think', 'people', 'stay', 'away', 'try', 'give', 'wholesome', 'message', 'ironically', 'mj', 'bestest', 'buddy', 'movie', 'girl', 'michael', 'jackson', 'truly', 'one', 'talented', 'people', 'ever', 'grace', 'planet', 'guilty', 'well', 'attention', 'gave', 'subject', 'hmmm', 'well', 'know', 'people', 'different', 'behind', 'closed', 'doors', 'know', 'fact', 'either', 'extremely', 'nice', 'stupid', 'guy', 'one', 'sickest', 'liars', 'hope', 'latter']\n"
     ]
    }
   ],
   "source": [
    "# Remove stop words from \"words\"\n",
    "words = [w for w in words if not w in stopwords.words(\"english\")]\n",
    "print (words)"
   ]
  },
  {
   "cell_type": "markdown",
   "id": "cebc557e",
   "metadata": {
    "papermill": {
     "duration": 0.008788,
     "end_time": "2022-07-20T00:14:09.557109",
     "exception": false,
     "start_time": "2022-07-20T00:14:09.548321",
     "status": "completed"
    },
    "tags": []
   },
   "source": [
    "There are many other things we could do to the data - For example, Porter Stemming and Lemmatizing (both available in NLTK) would allow us to treat \"messages\", \"message\", and \"messaging\" as the same word, which could certainly be useful. However, for simplicity, the tutorial will stop here."
   ]
  },
  {
   "cell_type": "code",
   "execution_count": 15,
   "id": "d440a2d7",
   "metadata": {
    "execution": {
     "iopub.execute_input": "2022-07-20T00:14:09.575577Z",
     "iopub.status.busy": "2022-07-20T00:14:09.575143Z",
     "iopub.status.idle": "2022-07-20T00:14:09.581198Z",
     "shell.execute_reply": "2022-07-20T00:14:09.579800Z"
    },
    "papermill": {
     "duration": 0.018691,
     "end_time": "2022-07-20T00:14:09.584169",
     "exception": false,
     "start_time": "2022-07-20T00:14:09.565478",
     "status": "completed"
    },
    "tags": []
   },
   "outputs": [
    {
     "name": "stdout",
     "output_type": "stream",
     "text": [
      "stuff going moment mj started listening music watching odd documentary watched wiz watched moonwalker maybe want get certain insight guy thought really cool eighties maybe make mind whether guilty innocent moonwalker part biography part feature film remember going see cinema originally released subtle messages mj feeling towards press also obvious message drugs bad kay visually impressive course michael jackson unless remotely like mj anyway going hate find boring may call mj egotist consenting making movie mj fans would say made fans true really nice actual feature film bit finally starts minutes excluding smooth criminal sequence joe pesci convincing psychopathic powerful drug lord wants mj dead bad beyond mj overheard plans nah joe pesci character ranted wanted people know supplying drugs etc dunno maybe hates mj music lots cool things like mj turning car robot whole speed demon sequence also director must patience saint came filming kiddy bad sequence usually directors hate working one kid let alone whole bunch performing complex dance scene bottom line movie people like mj one level another think people stay away try give wholesome message ironically mj bestest buddy movie girl michael jackson truly one talented people ever grace planet guilty well attention gave subject hmmm well know people different behind closed doors know fact either extremely nice stupid guy one sickest liars hope latter\n"
     ]
    }
   ],
   "source": [
    "cleanedup = \" \".join( words )\n",
    "print (cleanedup)"
   ]
  },
  {
   "cell_type": "code",
   "execution_count": 16,
   "id": "50161779",
   "metadata": {
    "execution": {
     "iopub.execute_input": "2022-07-20T00:14:09.603766Z",
     "iopub.status.busy": "2022-07-20T00:14:09.602394Z",
     "iopub.status.idle": "2022-07-20T00:14:09.610473Z",
     "shell.execute_reply": "2022-07-20T00:14:09.609341Z"
    },
    "papermill": {
     "duration": 0.02046,
     "end_time": "2022-07-20T00:14:09.613006",
     "exception": false,
     "start_time": "2022-07-20T00:14:09.592546",
     "status": "completed"
    },
    "tags": []
   },
   "outputs": [],
   "source": [
    "def review_to_words(raw_review):\n",
    "    # Function to convert a raw review to a string of words\n",
    "    # The input is a single string (a raw movie review), and \n",
    "    # the output is a single string (a preprocessed movie review)\n",
    "    #\n",
    "    # 1. Remove HTML\n",
    "    review_text = BeautifulSoup(raw_review).get_text() \n",
    "    #\n",
    "    # 2. Remove non-letters        \n",
    "    letters_only = re.sub(\"[^a-zA-Z]\", \" \", review_text) \n",
    "    #\n",
    "    # 3. Convert to lower case, split into individual words\n",
    "    words = letters_only.lower().split()                             \n",
    "    #\n",
    "    # 4. In Python, searching a set is much faster than searching\n",
    "    #   a list, so convert the stop words to a set\n",
    "    stops = set(stopwords.words(\"english\"))                  \n",
    "    # \n",
    "    # 5. Remove stop words\n",
    "    meaningful_words = [w for w in words if not w in stops]   \n",
    "    #\n",
    "    # 6. Join the words back into one string separated by space, \n",
    "    # and return the result.\n",
    "    return( \" \".join( meaningful_words ))   "
   ]
  },
  {
   "cell_type": "code",
   "execution_count": 17,
   "id": "54977a0f",
   "metadata": {
    "execution": {
     "iopub.execute_input": "2022-07-20T00:14:09.632008Z",
     "iopub.status.busy": "2022-07-20T00:14:09.631600Z",
     "iopub.status.idle": "2022-07-20T00:14:09.640055Z",
     "shell.execute_reply": "2022-07-20T00:14:09.638684Z"
    },
    "papermill": {
     "duration": 0.020871,
     "end_time": "2022-07-20T00:14:09.642316",
     "exception": false,
     "start_time": "2022-07-20T00:14:09.621445",
     "status": "completed"
    },
    "tags": []
   },
   "outputs": [
    {
     "name": "stdout",
     "output_type": "stream",
     "text": [
      "stuff going moment mj started listening music watching odd documentary watched wiz watched moonwalker maybe want get certain insight guy thought really cool eighties maybe make mind whether guilty innocent moonwalker part biography part feature film remember going see cinema originally released subtle messages mj feeling towards press also obvious message drugs bad kay visually impressive course michael jackson unless remotely like mj anyway going hate find boring may call mj egotist consenting making movie mj fans would say made fans true really nice actual feature film bit finally starts minutes excluding smooth criminal sequence joe pesci convincing psychopathic powerful drug lord wants mj dead bad beyond mj overheard plans nah joe pesci character ranted wanted people know supplying drugs etc dunno maybe hates mj music lots cool things like mj turning car robot whole speed demon sequence also director must patience saint came filming kiddy bad sequence usually directors hate working one kid let alone whole bunch performing complex dance scene bottom line movie people like mj one level another think people stay away try give wholesome message ironically mj bestest buddy movie girl michael jackson truly one talented people ever grace planet guilty well attention gave subject hmmm well know people different behind closed doors know fact either extremely nice stupid guy one sickest liars hope latter\n"
     ]
    }
   ],
   "source": [
    "clean_review = review_to_words( train[\"review\"][0] )\n",
    "print(clean_review)"
   ]
  },
  {
   "cell_type": "code",
   "execution_count": 18,
   "id": "56f5f550",
   "metadata": {
    "execution": {
     "iopub.execute_input": "2022-07-20T00:14:09.660658Z",
     "iopub.status.busy": "2022-07-20T00:14:09.660292Z",
     "iopub.status.idle": "2022-07-20T00:14:31.106553Z",
     "shell.execute_reply": "2022-07-20T00:14:31.105438Z"
    },
    "papermill": {
     "duration": 21.45915,
     "end_time": "2022-07-20T00:14:31.109747",
     "exception": false,
     "start_time": "2022-07-20T00:14:09.650597",
     "status": "completed"
    },
    "tags": []
   },
   "outputs": [
    {
     "name": "stdout",
     "output_type": "stream",
     "text": [
      "25000\n"
     ]
    },
    {
     "name": "stderr",
     "output_type": "stream",
     "text": [
      "/opt/conda/lib/python3.7/site-packages/bs4/__init__.py:439: MarkupResemblesLocatorWarning: The input looks more like a filename than markup. You may want to open this file and pass the filehandle into Beautiful Soup.\n",
      "  MarkupResemblesLocatorWarning\n"
     ]
    }
   ],
   "source": [
    "# Get the number of reviews based on the dataframe column size\n",
    "num_reviews = train[\"review\"].size\n",
    "print(num_reviews)\n",
    "# Initialize an empty list to hold the clean reviews\n",
    "clean_train_reviews = []\n",
    "\n",
    "# Loop over each review; create an index i that goes from 0 to the length\n",
    "# of the movie review list \n",
    "for i in range( 0, num_reviews ):\n",
    "    # Call our function for each one, and add the result to the list of\n",
    "    # clean reviews\n",
    "    clean_train_reviews.append(review_to_words(train[\"review\"][i]))"
   ]
  },
  {
   "cell_type": "code",
   "execution_count": 19,
   "id": "2a55bfcc",
   "metadata": {
    "execution": {
     "iopub.execute_input": "2022-07-20T00:14:31.129766Z",
     "iopub.status.busy": "2022-07-20T00:14:31.128995Z",
     "iopub.status.idle": "2022-07-20T00:14:52.794776Z",
     "shell.execute_reply": "2022-07-20T00:14:52.793885Z"
    },
    "papermill": {
     "duration": 21.678834,
     "end_time": "2022-07-20T00:14:52.797325",
     "exception": false,
     "start_time": "2022-07-20T00:14:31.118491",
     "status": "completed"
    },
    "tags": []
   },
   "outputs": [
    {
     "name": "stdout",
     "output_type": "stream",
     "text": [
      "Cleaning and parsing the training set movie reviews...\n",
      "\n",
      "Review 10000 of 25000\n",
      "\n",
      "Review 20000 of 25000\n",
      "\n"
     ]
    }
   ],
   "source": [
    "print( \"Cleaning and parsing the training set movie reviews...\\n\")\n",
    "clean_train_reviews = []\n",
    "for i in range( 0, num_reviews ):\n",
    "    # If the index is evenly divisible by 1000, print a message\n",
    "    if( (i+1)%10000 == 0 ):\n",
    "        print (\"Review %d of %d\\n\"%(i+1,num_reviews))                                                                \n",
    "    clean_train_reviews.append( review_to_words( train[\"review\"][i] ))"
   ]
  },
  {
   "cell_type": "code",
   "execution_count": 20,
   "id": "957f9aba",
   "metadata": {
    "execution": {
     "iopub.execute_input": "2022-07-20T00:14:52.816984Z",
     "iopub.status.busy": "2022-07-20T00:14:52.816577Z",
     "iopub.status.idle": "2022-07-20T00:14:57.147838Z",
     "shell.execute_reply": "2022-07-20T00:14:57.146408Z"
    },
    "papermill": {
     "duration": 4.344402,
     "end_time": "2022-07-20T00:14:57.150958",
     "exception": false,
     "start_time": "2022-07-20T00:14:52.806556",
     "status": "completed"
    },
    "tags": []
   },
   "outputs": [
    {
     "name": "stdout",
     "output_type": "stream",
     "text": [
      "Creating the bag of words...\n",
      "\n"
     ]
    }
   ],
   "source": [
    "print (\"Creating the bag of words...\\n\")\n",
    "from sklearn.feature_extraction.text import CountVectorizer\n",
    "\n",
    "# Initialize the \"CountVectorizer\" object, which is scikit-learn's\n",
    "# bag of words tool.  \n",
    "vectorizer = CountVectorizer(analyzer = \"word\",   \\\n",
    "                             tokenizer = None,    \\\n",
    "                             preprocessor = None, \\\n",
    "                             stop_words = None,   \\\n",
    "                             max_features = 5000) \n",
    "\n",
    "# fit_transform() does two functions: First, it fits the model\n",
    "# and learns the vocabulary; second, it transforms our training data\n",
    "# into feature vectors. The input to fit_transform should be a list of \n",
    "# strings.\n",
    "train_data_features = vectorizer.fit_transform(clean_train_reviews)\n",
    "\n",
    "# Numpy arrays are easy to work with, so convert the result to an \n",
    "# array\n",
    "train_data_features = train_data_features.toarray()"
   ]
  },
  {
   "cell_type": "code",
   "execution_count": null,
   "id": "83558e82",
   "metadata": {
    "papermill": {
     "duration": 0.0086,
     "end_time": "2022-07-20T00:14:57.168441",
     "exception": false,
     "start_time": "2022-07-20T00:14:57.159841",
     "status": "completed"
    },
    "tags": []
   },
   "outputs": [],
   "source": []
  },
  {
   "cell_type": "markdown",
   "id": "37b6e951",
   "metadata": {
    "papermill": {
     "duration": 0.008351,
     "end_time": "2022-07-20T00:14:57.185720",
     "exception": false,
     "start_time": "2022-07-20T00:14:57.177369",
     "status": "completed"
    },
    "tags": []
   },
   "source": []
  },
  {
   "cell_type": "markdown",
   "id": "71a54e7d",
   "metadata": {
    "papermill": {
     "duration": 0.008555,
     "end_time": "2022-07-20T00:14:57.203111",
     "exception": false,
     "start_time": "2022-07-20T00:14:57.194556",
     "status": "completed"
    },
    "tags": []
   },
   "source": []
  }
 ],
 "metadata": {
  "kernelspec": {
   "display_name": "Python 3",
   "language": "python",
   "name": "python3"
  },
  "language_info": {
   "codemirror_mode": {
    "name": "ipython",
    "version": 3
   },
   "file_extension": ".py",
   "mimetype": "text/x-python",
   "name": "python",
   "nbconvert_exporter": "python",
   "pygments_lexer": "ipython3",
   "version": "3.7.12"
  },
  "papermill": {
   "default_parameters": {},
   "duration": 61.88019,
   "end_time": "2022-07-20T00:14:58.034053",
   "environment_variables": {},
   "exception": null,
   "input_path": "__notebook__.ipynb",
   "output_path": "__notebook__.ipynb",
   "parameters": {},
   "start_time": "2022-07-20T00:13:56.153863",
   "version": "2.3.4"
  }
 },
 "nbformat": 4,
 "nbformat_minor": 5
}
